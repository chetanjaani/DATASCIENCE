{
 "cells": [
  {
   "cell_type": "code",
   "execution_count": 2,
   "id": "b18a7c70",
   "metadata": {},
   "outputs": [
    {
     "name": "stdout",
     "output_type": "stream",
     "text": [
      "<class 'tuple'>\n"
     ]
    },
    {
     "data": {
      "text/plain": [
       "1"
      ]
     },
     "execution_count": 2,
     "metadata": {},
     "output_type": "execute_result"
    }
   ],
   "source": [
    "# tuple defination\n",
    "\n",
    "tup = (10,20,30,40)\n",
    "print(type(tup))\n",
    "tup.count(10)"
   ]
  },
  {
   "cell_type": "code",
   "execution_count": 3,
   "id": "e438fc8d",
   "metadata": {},
   "outputs": [
    {
     "data": {
      "text/plain": [
       "0"
      ]
     },
     "execution_count": 3,
     "metadata": {},
     "output_type": "execute_result"
    }
   ],
   "source": [
    "tup.index(10)"
   ]
  },
  {
   "cell_type": "code",
   "execution_count": 5,
   "id": "34388479",
   "metadata": {},
   "outputs": [],
   "source": [
    "# tuple indexing and slicing\n",
    "\n",
    "tup = (10,20,30,[40,50,(30,40,(60,70,80))])\n"
   ]
  },
  {
   "cell_type": "code",
   "execution_count": 18,
   "id": "b7141767",
   "metadata": {},
   "outputs": [
    {
     "name": "stdout",
     "output_type": "stream",
     "text": [
      "70 80\n"
     ]
    }
   ],
   "source": [
    "# example :\n",
    "#o/p : 70,80\n",
    "print(*tup[3][2][2][1:])\n",
    "\n"
   ]
  },
  {
   "cell_type": "code",
   "execution_count": null,
   "id": "1d8a90f3",
   "metadata": {},
   "outputs": [
    {
     "name": "stdout",
     "output_type": "stream",
     "text": [
      "the value is 10 \n"
     ]
    }
   ],
   "source": [
    "# condtional statement\n",
    "'''\n",
    "if condition==true:\n",
    "    perform operation inside the loop\n",
    "else:\n",
    "    perform the operation\n",
    "\n",
    "\n",
    "note : = assignment operator\n",
    "        == comparison operator\n",
    "\n",
    "'''\n",
    "num = 10\n",
    "\n",
    "if num == 10:\n",
    "    print('the value is 10 ')\n",
    "else:\n",
    "    print('the value is other than 10 ') \n",
    "\n"
   ]
  },
  {
   "cell_type": "code",
   "execution_count": 16,
   "id": "c7d727f9",
   "metadata": {},
   "outputs": [
    {
     "name": "stdout",
     "output_type": "stream",
     "text": [
      "the given string is paindrom \n"
     ]
    }
   ],
   "source": [
    "text ='dad'\n",
    "text1 = text[::-1]\n",
    "\n",
    "\n",
    "if text == text1:\n",
    "    print('the given string is paindrom ')\n",
    "else:\n",
    "    print('the given string is not a palindrom')    "
   ]
  },
  {
   "cell_type": "code",
   "execution_count": null,
   "id": "21c5e7c0",
   "metadata": {},
   "outputs": [],
   "source": [
    "''' \n",
    "if condition:\n",
    "    statement\n",
    "elif condition:\n",
    "    statement\n",
    "else condition:\n",
    "    statement    \n",
    "\n",
    "\n",
    "'''"
   ]
  },
  {
   "cell_type": "code",
   "execution_count": 22,
   "id": "a72b79f0",
   "metadata": {},
   "outputs": [
    {
     "name": "stdout",
     "output_type": "stream",
     "text": [
      "good student\n"
     ]
    }
   ],
   "source": [
    "''' \n",
    "marks > 80 : best student \n",
    "marks between 60 to 79 : good student\n",
    "marks between 50 to 59 : average student\n",
    "marks < 49 : poor student\n",
    "\n",
    "'''\n",
    "\n",
    "marks = float(input('enter the marks of the student: '))\n",
    "\n",
    "\n",
    "\n",
    "if marks >= 80:\n",
    "    print('best student')\n",
    "elif marks < 80 and marks > 60:\n",
    "    print('good student')\n",
    "elif marks < 60 and marks > 50:\n",
    "    print('average student')\n",
    "else: \n",
    "    print('poor student')        \n",
    "\n",
    "\n",
    "\n"
   ]
  },
  {
   "cell_type": "code",
   "execution_count": null,
   "id": "2503e7ca",
   "metadata": {},
   "outputs": [
    {
     "name": "stdout",
     "output_type": "stream",
     "text": [
      "insufficient balance\n",
      "new_balance is  2500.0\n"
     ]
    }
   ],
   "source": [
    "''' \n",
    "balance = 10000\n",
    "withdraw = amount\n",
    "threshould = 2000\n",
    "\n",
    "\n",
    "'''\n",
    "balance = 10000\n",
    "threshould = amount\n",
    "withdraw = float(input('enter the amount of withdraw:'))\n",
    "\n",
    "if  withdraw >= balance:\n",
    "        print('insufficient balance')\n",
    "if withdraw <= balance:\n",
    "        new_balance = balance - withdraw\n",
    "if new_balance >= 2000:\n",
    "        print('new_balance is ',new_balance)\n",
    "else:\n",
    "        print('check your transaction , once again')   \n",
    "\n",
    "\n",
    "\n"
   ]
  },
  {
   "cell_type": "code",
   "execution_count": 38,
   "id": "446478f1",
   "metadata": {},
   "outputs": [
    {
     "name": "stdout",
     "output_type": "stream",
     "text": [
      "1\n",
      "2\n",
      "3\n",
      "4\n",
      "5\n",
      "6\n",
      "7\n",
      "8\n",
      "9\n",
      "10\n"
     ]
    }
   ],
   "source": [
    "# for loop\n",
    "for i in range(1,11):\n",
    "    print(i)"
   ]
  },
  {
   "cell_type": "code",
   "execution_count": 39,
   "id": "8ed63203",
   "metadata": {},
   "outputs": [
    {
     "name": "stdout",
     "output_type": "stream",
     "text": [
      "1 2 3 4 5 6 7 8 9 10 "
     ]
    }
   ],
   "source": [
    "for i in range(1,11):\n",
    "    print(i,end = \" \")"
   ]
  },
  {
   "cell_type": "code",
   "execution_count": 41,
   "id": "8704a8e1",
   "metadata": {},
   "outputs": [
    {
     "name": "stdout",
     "output_type": "stream",
     "text": [
      "*\n",
      "**\n",
      "***\n",
      "****\n",
      "*****\n"
     ]
    }
   ],
   "source": [
    "for i in range(1,6):\n",
    "    print('*'*i)"
   ]
  },
  {
   "cell_type": "code",
   "execution_count": 47,
   "id": "9948d9f7",
   "metadata": {},
   "outputs": [
    {
     "name": "stdout",
     "output_type": "stream",
     "text": [
      "*\n",
      "****\n",
      "*********\n",
      "****************\n",
      "*************************\n"
     ]
    }
   ],
   "source": [
    "for i in range(1,6): \n",
    "        print('*'*i*i)"
   ]
  },
  {
   "cell_type": "code",
   "execution_count": 6,
   "id": "499793b4",
   "metadata": {},
   "outputs": [
    {
     "name": "stdout",
     "output_type": "stream",
     "text": [
      "0\n",
      "2\n",
      "4\n",
      "6\n",
      "8\n"
     ]
    }
   ],
   "source": [
    "''' \n",
    "range (start,stop,step)\n",
    "\n",
    "\n",
    "'''\n",
    "\n",
    "for i  in range(0,10,2):\n",
    "    print(i)"
   ]
  },
  {
   "cell_type": "code",
   "execution_count": null,
   "id": "9cbe3a8e",
   "metadata": {},
   "outputs": [
    {
     "name": "stdout",
     "output_type": "stream",
     "text": [
      "0\n",
      "1\n",
      "2\n",
      "3\n",
      "4\n"
     ]
    }
   ],
   "source": [
    "# using while loop\n",
    "num = 5\n",
    "count = 0 \n",
    "while count < num:\n",
    "    print(count)\n",
    "    count = count + 1"
   ]
  },
  {
   "cell_type": "code",
   "execution_count": 11,
   "id": "f5e27734",
   "metadata": {},
   "outputs": [
    {
     "name": "stdout",
     "output_type": "stream",
     "text": [
      "0\n",
      "1\n",
      "2\n",
      "3\n",
      "4\n",
      "5\n"
     ]
    }
   ],
   "source": [
    "num = 5\n",
    "count = 0 \n",
    "while count <= num:\n",
    "    print(count)\n",
    "    count = count + 1"
   ]
  },
  {
   "cell_type": "code",
   "execution_count": null,
   "id": "abacfa6b",
   "metadata": {},
   "outputs": [
    {
     "name": "stdout",
     "output_type": "stream",
     "text": [
      "0\n",
      "2\n",
      "4\n",
      "6\n",
      "8\n",
      "10\n"
     ]
    }
   ],
   "source": [
    "num =  10\n",
    "count = 0\n",
    "while count <= num:\n",
    "    if count%2 == 0:\n",
    "        print(count)\n",
    "    count = count + 1    "
   ]
  },
  {
   "cell_type": "code",
   "execution_count": 18,
   "id": "37ab08df",
   "metadata": {},
   "outputs": [
    {
     "name": "stdout",
     "output_type": "stream",
     "text": [
      "1\n",
      "3\n",
      "5\n",
      "7\n",
      "9\n"
     ]
    }
   ],
   "source": [
    "num =  10\n",
    "count = 0\n",
    "while count <= num:\n",
    "    if count%2 == 1:\n",
    "        print(count)\n",
    "    count = count + 1  "
   ]
  },
  {
   "cell_type": "code",
   "execution_count": 20,
   "id": "7bb06ccf",
   "metadata": {},
   "outputs": [],
   "source": [
    "for i in range(0,20,2):\n",
    "    continue\n",
    "    print(i)"
   ]
  },
  {
   "cell_type": "code",
   "execution_count": 21,
   "id": "a614df59",
   "metadata": {},
   "outputs": [
    {
     "name": "stdout",
     "output_type": "stream",
     "text": [
      "0\n",
      "2\n",
      "4\n",
      "6\n",
      "8\n",
      "10\n",
      "12\n",
      "14\n",
      "16\n",
      "18\n"
     ]
    }
   ],
   "source": [
    "for i in range(0,20,2):\n",
    "    pass\n",
    "    print(i)"
   ]
  },
  {
   "cell_type": "code",
   "execution_count": 22,
   "id": "4fc65150",
   "metadata": {},
   "outputs": [],
   "source": [
    "for i in range(0,20,2):\n",
    "    break\n",
    "    print(i)"
   ]
  },
  {
   "cell_type": "code",
   "execution_count": 24,
   "id": "cd132ce2",
   "metadata": {},
   "outputs": [
    {
     "name": "stdout",
     "output_type": "stream",
     "text": [
      "0\n",
      "1\n",
      "2\n",
      "3\n",
      "4\n",
      "5\n"
     ]
    }
   ],
   "source": [
    "for i in range (0,15):\n",
    "    if i<=5:\n",
    "        print(i)\n",
    "        continue"
   ]
  },
  {
   "cell_type": "code",
   "execution_count": 25,
   "id": "b1cdb369",
   "metadata": {},
   "outputs": [
    {
     "name": "stdout",
     "output_type": "stream",
     "text": [
      "0\n",
      "1\n",
      "2\n",
      "3\n",
      "4\n",
      "5\n"
     ]
    }
   ],
   "source": [
    "for i in range (0,15):\n",
    "    if i<=5:\n",
    "        print(i)\n",
    "        pass"
   ]
  },
  {
   "cell_type": "code",
   "execution_count": 26,
   "id": "782b8192",
   "metadata": {},
   "outputs": [
    {
     "name": "stdout",
     "output_type": "stream",
     "text": [
      "0\n"
     ]
    }
   ],
   "source": [
    "for i in range (0,15):\n",
    "    if i<=5:\n",
    "        print(i)\n",
    "        break"
   ]
  },
  {
   "cell_type": "code",
   "execution_count": 28,
   "id": "55e98e21",
   "metadata": {},
   "outputs": [
    {
     "name": "stdout",
     "output_type": "stream",
     "text": [
      "0\n"
     ]
    }
   ],
   "source": [
    "for i in range (0,15):\n",
    "    if i<=5:\n",
    "        print(i)\n",
    "        break\n",
    "        continue\n",
    "    "
   ]
  },
  {
   "cell_type": "code",
   "execution_count": null,
   "id": "b25f0b11",
   "metadata": {},
   "outputs": [],
   "source": []
  },
  {
   "cell_type": "code",
   "execution_count": 31,
   "id": "ae0e505f",
   "metadata": {},
   "outputs": [
    {
     "name": "stdout",
     "output_type": "stream",
     "text": [
      "0\n",
      "10\n",
      "0\n",
      "11\n",
      "0\n",
      "12\n",
      "0\n",
      "13\n",
      "0\n",
      "14\n",
      "0\n",
      "15\n",
      "0\n",
      "16\n",
      "0\n",
      "17\n",
      "0\n",
      "18\n",
      "0\n",
      "19\n",
      "1\n",
      "10\n",
      "1\n",
      "11\n",
      "1\n",
      "12\n",
      "1\n",
      "13\n",
      "1\n",
      "14\n",
      "1\n",
      "15\n",
      "1\n",
      "16\n",
      "1\n",
      "17\n",
      "1\n",
      "18\n",
      "1\n",
      "19\n",
      "2\n",
      "10\n",
      "2\n",
      "11\n",
      "2\n",
      "12\n",
      "2\n",
      "13\n",
      "2\n",
      "14\n",
      "2\n",
      "15\n",
      "2\n",
      "16\n",
      "2\n",
      "17\n",
      "2\n",
      "18\n",
      "2\n",
      "19\n",
      "3\n",
      "10\n",
      "3\n",
      "11\n",
      "3\n",
      "12\n",
      "3\n",
      "13\n",
      "3\n",
      "14\n",
      "3\n",
      "15\n",
      "3\n",
      "16\n",
      "3\n",
      "17\n",
      "3\n",
      "18\n",
      "3\n",
      "19\n",
      "4\n",
      "10\n",
      "4\n",
      "11\n",
      "4\n",
      "12\n",
      "4\n",
      "13\n",
      "4\n",
      "14\n",
      "4\n",
      "15\n",
      "4\n",
      "16\n",
      "4\n",
      "17\n",
      "4\n",
      "18\n",
      "4\n",
      "19\n",
      "5\n",
      "10\n",
      "5\n",
      "11\n",
      "5\n",
      "12\n",
      "5\n",
      "13\n",
      "5\n",
      "14\n",
      "5\n",
      "15\n",
      "5\n",
      "16\n",
      "5\n",
      "17\n",
      "5\n",
      "18\n",
      "5\n",
      "19\n",
      "6\n",
      "10\n",
      "6\n",
      "11\n",
      "6\n",
      "12\n",
      "6\n",
      "13\n",
      "6\n",
      "14\n",
      "6\n",
      "15\n",
      "6\n",
      "16\n",
      "6\n",
      "17\n",
      "6\n",
      "18\n",
      "6\n",
      "19\n",
      "7\n",
      "10\n",
      "7\n",
      "11\n",
      "7\n",
      "12\n",
      "7\n",
      "13\n",
      "7\n",
      "14\n",
      "7\n",
      "15\n",
      "7\n",
      "16\n",
      "7\n",
      "17\n",
      "7\n",
      "18\n",
      "7\n",
      "19\n",
      "8\n",
      "10\n",
      "8\n",
      "11\n",
      "8\n",
      "12\n",
      "8\n",
      "13\n",
      "8\n",
      "14\n",
      "8\n",
      "15\n",
      "8\n",
      "16\n",
      "8\n",
      "17\n",
      "8\n",
      "18\n",
      "8\n",
      "19\n",
      "9\n",
      "10\n",
      "9\n",
      "11\n",
      "9\n",
      "12\n",
      "9\n",
      "13\n",
      "9\n",
      "14\n",
      "9\n",
      "15\n",
      "9\n",
      "16\n",
      "9\n",
      "17\n",
      "9\n",
      "18\n",
      "9\n",
      "19\n"
     ]
    }
   ],
   "source": [
    "for i in range (0,10):\n",
    "   for j in range (10,20):\n",
    "        print(i)\n",
    "        print(j)"
   ]
  },
  {
   "cell_type": "code",
   "execution_count": null,
   "id": "d0684ad7",
   "metadata": {},
   "outputs": [
    {
     "ename": "SyntaxError",
     "evalue": "expected ':' (4131619231.py, line 16)",
     "output_type": "error",
     "traceback": [
      "\u001b[1;36m  Cell \u001b[1;32mIn[33], line 16\u001b[1;36m\u001b[0m\n\u001b[1;33m    if choice == '+'\u001b[0m\n\u001b[1;37m                        ^\u001b[0m\n\u001b[1;31mSyntaxError\u001b[0m\u001b[1;31m:\u001b[0m expected ':'\n"
     ]
    }
   ],
   "source": [
    "''' \n",
    "num1\n",
    "num2\n",
    "choice = +,-,*,/\n",
    "\n",
    "num1 = \n",
    "num2 =\n",
    "choice = \n",
    "\n",
    "'''\n",
    "\n",
    "num1 = float(input(\"enter the amount: \" )\n",
    "num2 = float(input(\"enter the amount: \" )\n",
    "choice = (\"enter the choice:  \")\n",
    "\n",
    "if choice == '+'    \n",
    "    print('addition')\n",
    "if choice == '-'\n",
    "    print('subtraction')\n",
    "if choice == '*'\n",
    "    print('multiply')\n",
    "if choice == '/'\n",
    "    print('divide')\n",
    "else: \n",
    "    print('check the entered choice')\n",
    "            "
   ]
  },
  {
   "cell_type": "code",
   "execution_count": null,
   "id": "9d420ffb",
   "metadata": {},
   "outputs": [],
   "source": []
  },
  {
   "cell_type": "code",
   "execution_count": null,
   "id": "cb98cca0",
   "metadata": {},
   "outputs": [],
   "source": []
  },
  {
   "cell_type": "code",
   "execution_count": null,
   "id": "87c2c316",
   "metadata": {},
   "outputs": [],
   "source": []
  },
  {
   "cell_type": "code",
   "execution_count": null,
   "id": "0fc76074",
   "metadata": {},
   "outputs": [],
   "source": []
  }
 ],
 "metadata": {
  "kernelspec": {
   "display_name": "base",
   "language": "python",
   "name": "python3"
  },
  "language_info": {
   "codemirror_mode": {
    "name": "ipython",
    "version": 3
   },
   "file_extension": ".py",
   "mimetype": "text/x-python",
   "name": "python",
   "nbconvert_exporter": "python",
   "pygments_lexer": "ipython3",
   "version": "3.12.7"
  }
 },
 "nbformat": 4,
 "nbformat_minor": 5
}
