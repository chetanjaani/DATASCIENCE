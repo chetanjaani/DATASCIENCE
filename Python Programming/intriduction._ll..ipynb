{
 "cells": [
  {
   "cell_type": "code",
   "execution_count": 2,
   "id": "b18a7c70",
   "metadata": {},
   "outputs": [
    {
     "name": "stdout",
     "output_type": "stream",
     "text": [
      "<class 'tuple'>\n"
     ]
    },
    {
     "data": {
      "text/plain": [
       "1"
      ]
     },
     "execution_count": 2,
     "metadata": {},
     "output_type": "execute_result"
    }
   ],
   "source": [
    "# tuple defination\n",
    "\n",
    "tup = (10,20,30,40)\n",
    "print(type(tup))\n",
    "tup.count(10)"
   ]
  },
  {
   "cell_type": "code",
   "execution_count": 3,
   "id": "e438fc8d",
   "metadata": {},
   "outputs": [
    {
     "data": {
      "text/plain": [
       "0"
      ]
     },
     "execution_count": 3,
     "metadata": {},
     "output_type": "execute_result"
    }
   ],
   "source": [
    "tup.index(10)"
   ]
  },
  {
   "cell_type": "code",
   "execution_count": 5,
   "id": "34388479",
   "metadata": {},
   "outputs": [],
   "source": [
    "# tuple indexing and slicing\n",
    "\n",
    "tup = (10,20,30,[40,50,(30,40,(60,70,80))])\n"
   ]
  },
  {
   "cell_type": "code",
   "execution_count": 18,
   "id": "b7141767",
   "metadata": {},
   "outputs": [
    {
     "name": "stdout",
     "output_type": "stream",
     "text": [
      "70 80\n"
     ]
    }
   ],
   "source": [
    "# example :\n",
    "#o/p : 70,80\n",
    "print(*tup[3][2][2][1:])\n",
    "\n"
   ]
  },
  {
   "cell_type": "code",
   "execution_count": null,
   "id": "1d8a90f3",
   "metadata": {},
   "outputs": [
    {
     "name": "stdout",
     "output_type": "stream",
     "text": [
      "the value is 10 \n"
     ]
    }
   ],
   "source": [
    "# condtional statement\n",
    "'''\n",
    "if condition==true:\n",
    "    perform operation inside the loop\n",
    "else:\n",
    "    perform the operation\n",
    "\n",
    "\n",
    "note : = assignment operator\n",
    "        == comparison operator\n",
    "\n",
    "'''\n",
    "num = 10\n",
    "\n",
    "if num == 10:\n",
    "    print('the value is 10 ')\n",
    "else:\n",
    "    print('the value is other than 10 ') \n",
    "\n"
   ]
  },
  {
   "cell_type": "code",
   "execution_count": 16,
   "id": "c7d727f9",
   "metadata": {},
   "outputs": [
    {
     "name": "stdout",
     "output_type": "stream",
     "text": [
      "the given string is paindrom \n"
     ]
    }
   ],
   "source": [
    "text ='dad'\n",
    "text1 = text[::-1]\n",
    "\n",
    "\n",
    "if text == text1:\n",
    "    print('the given string is paindrom ')\n",
    "else:\n",
    "    print('the given string is not a palindrom')    "
   ]
  },
  {
   "cell_type": "code",
   "execution_count": null,
   "id": "21c5e7c0",
   "metadata": {},
   "outputs": [],
   "source": [
    "''' \n",
    "if condition:\n",
    "    statement\n",
    "elif condition:\n",
    "    statement\n",
    "else condition:\n",
    "    statement    \n",
    "\n",
    "\n",
    "'''"
   ]
  },
  {
   "cell_type": "code",
   "execution_count": 22,
   "id": "a72b79f0",
   "metadata": {},
   "outputs": [
    {
     "name": "stdout",
     "output_type": "stream",
     "text": [
      "good student\n"
     ]
    }
   ],
   "source": [
    "''' \n",
    "marks > 80 : best student \n",
    "marks between 60 to 79 : good student\n",
    "marks between 50 to 59 : average student\n",
    "marks < 49 : poor student\n",
    "\n",
    "'''\n",
    "\n",
    "marks = float(input('enter the marks of the student: '))\n",
    "\n",
    "\n",
    "\n",
    "if marks >= 80:\n",
    "    print('best student')\n",
    "elif marks < 80 and marks > 60:\n",
    "    print('good student')\n",
    "elif marks < 60 and marks > 50:\n",
    "    print('average student')\n",
    "else: \n",
    "    print('poor student')        \n",
    "\n",
    "\n",
    "\n"
   ]
  },
  {
   "cell_type": "code",
   "execution_count": null,
   "id": "2503e7ca",
   "metadata": {},
   "outputs": [
    {
     "name": "stdout",
     "output_type": "stream",
     "text": [
      "insufficient balance\n",
      "new_balance is  2500.0\n"
     ]
    }
   ],
   "source": [
    "''' \n",
    "balance = 10000\n",
    "withdraw = amount\n",
    "threshould = 2000\n",
    "\n",
    "\n",
    "'''\n",
    "balance = 10000\n",
    "threshould = amount\n",
    "withdraw = float(input('enter the amount of withdraw:'))\n",
    "\n",
    "if  withdraw >= balance:\n",
    "        print('insufficient balance')\n",
    "if withdraw <= balance:\n",
    "        new_balance = balance - withdraw\n",
    "if new_balance >= 2000:\n",
    "        print('new_balance is ',new_balance)\n",
    "else:\n",
    "        print('check your transaction , once again')   \n",
    "\n",
    "\n",
    "\n"
   ]
  },
  {
   "cell_type": "code",
   "execution_count": 38,
   "id": "446478f1",
   "metadata": {},
   "outputs": [
    {
     "name": "stdout",
     "output_type": "stream",
     "text": [
      "1\n",
      "2\n",
      "3\n",
      "4\n",
      "5\n",
      "6\n",
      "7\n",
      "8\n",
      "9\n",
      "10\n"
     ]
    }
   ],
   "source": [
    "# for loop\n",
    "for i in range(1,11):\n",
    "    print(i)"
   ]
  },
  {
   "cell_type": "code",
   "execution_count": 39,
   "id": "8ed63203",
   "metadata": {},
   "outputs": [
    {
     "name": "stdout",
     "output_type": "stream",
     "text": [
      "1 2 3 4 5 6 7 8 9 10 "
     ]
    }
   ],
   "source": [
    "for i in range(1,11):\n",
    "    print(i,end = \" \")"
   ]
  },
  {
   "cell_type": "code",
   "execution_count": 41,
   "id": "8704a8e1",
   "metadata": {},
   "outputs": [
    {
     "name": "stdout",
     "output_type": "stream",
     "text": [
      "*\n",
      "**\n",
      "***\n",
      "****\n",
      "*****\n"
     ]
    }
   ],
   "source": [
    "for i in range(1,6):\n",
    "    print('*'*i)"
   ]
  },
  {
   "cell_type": "code",
   "execution_count": 47,
   "id": "9948d9f7",
   "metadata": {},
   "outputs": [
    {
     "name": "stdout",
     "output_type": "stream",
     "text": [
      "*\n",
      "****\n",
      "*********\n",
      "****************\n",
      "*************************\n"
     ]
    }
   ],
   "source": [
    "for i in range(1,6): \n",
    "        print('*'*i*i)"
   ]
  },
  {
   "cell_type": "code",
   "execution_count": null,
   "id": "499793b4",
   "metadata": {},
   "outputs": [],
   "source": []
  }
 ],
 "metadata": {
  "kernelspec": {
   "display_name": "base",
   "language": "python",
   "name": "python3"
  },
  "language_info": {
   "codemirror_mode": {
    "name": "ipython",
    "version": 3
   },
   "file_extension": ".py",
   "mimetype": "text/x-python",
   "name": "python",
   "nbconvert_exporter": "python",
   "pygments_lexer": "ipython3",
   "version": "3.12.7"
  }
 },
 "nbformat": 4,
 "nbformat_minor": 5
}
