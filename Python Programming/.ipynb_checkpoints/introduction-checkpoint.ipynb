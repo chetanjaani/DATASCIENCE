{
 "cells": [
  {
   "cell_type": "markdown",
   "id": "c6b84474",
   "metadata": {},
   "source": [
    "### Introduction of python"
   ]
  },
  {
   "cell_type": "code",
   "execution_count": null,
   "id": "3e728fea",
   "metadata": {},
   "outputs": [
    {
     "data": {
      "text/plain": [
       "'\\nData types in python are as follows:\\n1.Integer\\n2.Float\\n3.string\\n'"
      ]
     },
     "execution_count": 4,
     "metadata": {},
     "output_type": "execute_result"
    }
   ],
   "source": [
    "# Variable Defination\n",
    "number = 100                #Defining Integer Variable\n",
    "decimal = 1000.890          #Defining float Variable : decimal Values\n",
    "string = 'Hello World'      #Defining String : \"Text Information\"\n",
    "'''\n",
    "Data types in python are as follows:\n",
    "1.Integer\n",
    "2.Float\n",
    "3.string\n",
    "'''"
   ]
  },
  {
   "cell_type": "code",
   "execution_count": null,
   "id": "d5703a8e",
   "metadata": {},
   "outputs": [
    {
     "name": "stdout",
     "output_type": "stream",
     "text": [
      "<class 'int'>\n",
      "<class 'float'>\n",
      "<class 'str'>\n"
     ]
    }
   ],
   "source": [
    "#Checking Datatype Variables\n",
    "print(type(number))\n",
    "print(type(decimal))\n",
    "print(type(string))"
   ]
  },
  {
   "cell_type": "code",
   "execution_count": 1,
   "id": "97c18a35",
   "metadata": {},
   "outputs": [
    {
     "name": "stdout",
     "output_type": "stream",
     "text": [
      "100\n"
     ]
    }
   ],
   "source": [
    "# type casting of data type\n",
    "num = 100.2908383    # datatype : Float\n",
    "print(int(num))      #Float is typecasted to int\n"
   ]
  },
  {
   "cell_type": "code",
   "execution_count": 4,
   "id": "7a897638",
   "metadata": {},
   "outputs": [
    {
     "name": "stdout",
     "output_type": "stream",
     "text": [
      "<class 'str'>\n",
      "1000\n",
      "1000.0\n"
     ]
    }
   ],
   "source": [
    "# Using input function\n",
    "# input() :---> function\n",
    "''' \n",
    "\n",
    "whenever the use input function, the output of input function is always string\n",
    "'''\n",
    "num = input ('enter the value')\n",
    "print(type(num))\n",
    "print(int(num))\n",
    "print(float(num))"
   ]
  },
  {
   "cell_type": "code",
   "execution_count": 8,
   "id": "ad0f8b39",
   "metadata": {},
   "outputs": [
    {
     "name": "stdout",
     "output_type": "stream",
     "text": [
      "chetan chetan janwalkar\n",
      "<class 'str'>\n"
     ]
    }
   ],
   "source": [
    "# Ask the use ro enter the string using input function\n",
    "\n",
    "str = input ('enter the name of the person')\n",
    "print('chetan',str)\n",
    "print(type(str))"
   ]
  },
  {
   "cell_type": "code",
   "execution_count": 3,
   "id": "f3c0b50f",
   "metadata": {},
   "outputs": [
    {
     "name": "stdout",
     "output_type": "stream",
     "text": [
      " The addition of two numbers as 10.0 and 20.0 is 30.0\n"
     ]
    }
   ],
   "source": [
    "# perform mathmatical Operations\n",
    "\n",
    "num1 = float(input('Enter the first number: '))\n",
    "num2 = float(input('Enter the second number: '))\n",
    "\n",
    "num3 = num1 + num2\n",
    "\n",
    "# Using fstring method\n",
    "\n",
    "print(f' The addition of two numbers as {num1} and {num2} is',num3)"
   ]
  },
  {
   "cell_type": "code",
   "execution_count": null,
   "id": "5e5e2b81",
   "metadata": {},
   "outputs": [
    {
     "name": "stdout",
     "output_type": "stream",
     "text": [
      "w\n",
      "w\n",
      "e\n"
     ]
    }
   ],
   "source": [
    "# strings Indexing and Slicing\n",
    "\n",
    "string = input('Enter the string: ')\n",
    "\n",
    "'''\n",
    "H e l l o   W o r l d \n",
    "0 1 2 3 4 5 6 7 8 9 10\n",
    "..............-3 -2 -1\n",
    "\n",
    "'''\n",
    "print(string[6])     # Indexing\n",
    "print(string[-5])    # Indexing\n",
    "\n",
    "print(string [-10])\n"
   ]
  },
  {
   "cell_type": "code",
   "execution_count": 13,
   "id": "4542b5ca",
   "metadata": {},
   "outputs": [
    {
     "name": "stdout",
     "output_type": "stream",
     "text": [
      "ell\n",
      "llo\n",
      "Hello Worl\n",
      "llo Wor\n",
      "o Worl\n"
     ]
    }
   ],
   "source": [
    "#Concept Of Slicing\n",
    "\n",
    "string = input('Enter the strinng: ')\n",
    "'''\n",
    "string[start:stop]\n",
    "Example:\n",
    "string = Hello World\n",
    "srting[1:4] ----> o/p:---> ell\n",
    "\n",
    "'''\n",
    "\n",
    "print(string[1:4])\n",
    "print(string[2:5])\n",
    "print(string[:-1])\n",
    "print(string[2:-2])\n",
    "print(string[4:-1])"
   ]
  },
  {
   "cell_type": "code",
   "execution_count": 14,
   "id": "93107404",
   "metadata": {},
   "outputs": [
    {
     "name": "stdout",
     "output_type": "stream",
     "text": [
      "el ol\n"
     ]
    }
   ],
   "source": [
    "#Concept Of Slicing\n",
    "\n",
    "string = input('Enter the strinng: ')\n",
    "'''\n",
    "string[start:stop]\n",
    "Example:\n",
    "string = Hello World\n",
    "srting[1::2] ----> o/p:---> el\n",
    "\n",
    "'''\n",
    "print(string[1::2])\n",
    "\n"
   ]
  },
  {
   "cell_type": "code",
   "execution_count": 17,
   "id": "47785e1c",
   "metadata": {},
   "outputs": [
    {
     "name": "stdout",
     "output_type": "stream",
     "text": [
      "HloWloet tewrdo yhnpormig\n",
      "o Welcome to  the world of python programmi\n",
      "gnimmargorp nohtyp fo dlrow eht  ot emocleW olleH\n"
     ]
    }
   ],
   "source": [
    "# Concept  of Indexing and Slicing Together\n",
    "\n",
    "str = 'Hello Welcome to  the world of python programming'\n",
    "print(str[::2])\n",
    "print(str[4:-2:])\n",
    "print(str[::-1])"
   ]
  },
  {
   "cell_type": "code",
   "execution_count": 20,
   "id": "878bce43",
   "metadata": {},
   "outputs": [
    {
     "name": "stdout",
     "output_type": "stream",
     "text": [
      "[10, 20, 30, 40]\n",
      "<class 'list'>\n",
      "[10, 20, 30, 40, 50]\n"
     ]
    }
   ],
   "source": [
    "# data Structures in python programming\n",
    "'''\n",
    "1.List  []   : mutable in nature\n",
    "2.tuple ()   : Immutable in nature\n",
    "3.Dictionary : {'key1': value1, 'key2' :value2}   : Immutable in nature\n",
    "4.Sets       : {1,2,3,4,5}    :  Immutable in nature\n",
    "\n",
    "if you performing any computional operation on software programming tuple is use (beacause tuple is immutable thats why is much more faster then list)\n",
    "\n",
    "''' \n",
    "\n",
    "# list defination \n",
    "\n",
    "lst = [10,20,30,40]\n",
    "\n",
    "print(lst)\n",
    "print(type(lst))\n",
    "\n",
    "# append () this is function which defined in class list\n",
    "# therfore, append() is method of class list\n",
    "# lst.append(50) : You are calling function using .operator\n",
    "lst.append(50)\n",
    "print(lst)\n",
    "\n",
    "\n",
    "\n",
    "\n",
    "\n",
    "\n",
    "\n"
   ]
  },
  {
   "cell_type": "code",
   "execution_count": null,
   "id": "df098818",
   "metadata": {},
   "outputs": [],
   "source": []
  }
 ],
 "metadata": {
  "kernelspec": {
   "display_name": "base",
   "language": "python",
   "name": "python3"
  },
  "language_info": {
   "codemirror_mode": {
    "name": "ipython",
    "version": 3
   },
   "file_extension": ".py",
   "mimetype": "text/x-python",
   "name": "python",
   "nbconvert_exporter": "python",
   "pygments_lexer": "ipython3",
   "version": "3.12.7"
  }
 },
 "nbformat": 4,
 "nbformat_minor": 5
}
