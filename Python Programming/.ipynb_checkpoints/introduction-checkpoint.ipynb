{
 "cells": [
  {
   "cell_type": "raw",
   "id": "f73cbec0-cbba-4ce5-8102-132240f1e7c7",
   "metadata": {},
   "source": [
    "### Introduction of python"
   ]
  },
  {
   "cell_type": "code",
   "execution_count": null,
   "id": "3e728fea",
   "metadata": {},
   "outputs": [
    {
     "data": {
      "text/plain": [
       "'\\nData types in python are as follows:\\n1.Integer\\n2.Float\\n3.string\\n'"
      ]
     },
     "execution_count": 4,
     "metadata": {},
     "output_type": "execute_result"
    }
   ],
   "source": [
    "# Variable Defination\n",
    "number = 100                #Defining Integer Variable\n",
    "decimal = 1000.890          #Defining float Variable : decimal Values\n",
    "string = 'Hello World'      #Defining String : \"Text Information\"\n",
    "'''\n",
    "Data types in python are as follows:\n",
    "1.Integer\n",
    "2.Float\n",
    "3.string\n",
    "'''"
   ]
  },
  {
   "cell_type": "code",
   "execution_count": null,
   "id": "d5703a8e",
   "metadata": {},
   "outputs": [
    {
     "name": "stdout",
     "output_type": "stream",
     "text": [
      "<class 'int'>\n",
      "<class 'float'>\n",
      "<class 'str'>\n"
     ]
    }
   ],
   "source": [
    "#Checking Datatype Variables\n",
    "print(type(number))\n",
    "print(type(decimal))\n",
    "print(type(string))"
   ]
  },
  {
   "cell_type": "code",
   "execution_count": 1,
   "id": "97c18a35",
   "metadata": {},
   "outputs": [
    {
     "name": "stdout",
     "output_type": "stream",
     "text": [
      "100\n"
     ]
    }
   ],
   "source": [
    "# type casting of data type\n",
    "num = 100.2908383    # datatype : Float\n",
    "print(int(num))      #Float is typecasted to int\n"
   ]
  },
  {
   "cell_type": "code",
   "execution_count": 4,
   "id": "7a897638",
   "metadata": {},
   "outputs": [
    {
     "name": "stdout",
     "output_type": "stream",
     "text": [
      "<class 'str'>\n",
      "1000\n",
      "1000.0\n"
     ]
    }
   ],
   "source": [
    "# Using input function\n",
    "# input() :---> function\n",
    "''' \n",
    "\n",
    "whenever the use input function, the output of input function is always string\n",
    "'''\n",
    "num = input ('enter the value')\n",
    "print(type(num))\n",
    "print(int(num))\n",
    "print(float(num))"
   ]
  },
  {
   "cell_type": "code",
   "execution_count": 8,
   "id": "ad0f8b39",
   "metadata": {},
   "outputs": [
    {
     "name": "stdout",
     "output_type": "stream",
     "text": [
      "chetan chetan janwalkar\n",
      "<class 'str'>\n"
     ]
    }
   ],
   "source": [
    "# Ask the use ro enter the string using input function\n",
    "\n",
    "str = input ('enter the name of the person')\n",
    "print('chetan',str)\n",
    "print(type(str))"
   ]
  },
  {
   "cell_type": "code",
   "execution_count": 3,
   "id": "f3c0b50f",
   "metadata": {},
   "outputs": [
    {
     "name": "stdout",
     "output_type": "stream",
     "text": [
      " The addition of two numbers as 10.0 and 20.0 is 30.0\n"
     ]
    }
   ],
   "source": [
    "# perform mathmatical Operations\n",
    "\n",
    "num1 = float(input('Enter the first number: '))\n",
    "num2 = float(input('Enter the second number: '))\n",
    "\n",
    "num3 = num1 + num2\n",
    "\n",
    "# Using fstring method\n",
    "\n",
    "print(f' The addition of two numbers as {num1} and {num2} is',num3)"
   ]
  },
  {
   "cell_type": "code",
   "execution_count": 4,
   "id": "87fa9e17",
   "metadata": {},
   "outputs": [
    {
     "name": "stdout",
     "output_type": "stream",
     "text": [
      " the addition of three numbers as 10.0 and 20.0 and 40.0 is 70.0\n",
      " the addition of three numbers as 10.0 and 20.0 and 40.0 is 70.0\n"
     ]
    }
   ],
   "source": [
    "num1 = float(input('enter the first number: '))\n",
    "num2 = float(input('enter the second nunber: '))\n",
    "num3 = float(input('enter the third number: '))\n",
    "\n",
    "num4 = num1 + num2 + num3\n",
    "\n",
    "print(f' the addition of three numbers as {num1} and {num2} and {num3} is', num4)\n",
    "print(f' the addition of three numbers as {num1} and {num2} and {num3} is', num4)\n"
   ]
  },
  {
   "cell_type": "code",
   "execution_count": null,
   "id": "5e5e2b81",
   "metadata": {},
   "outputs": [
    {
     "name": "stdout",
     "output_type": "stream",
     "text": [
      "w\n",
      "w\n",
      "e\n"
     ]
    }
   ],
   "source": [
    "# strings Indexing and Slicing\n",
    "\n",
    "string = input('Enter the string: ')\n",
    "\n",
    "'''\n",
    "H e l l o   W o r l d \n",
    "0 1 2 3 4 5 6 7 8 9 10\n",
    "..............-3 -2 -1\n",
    "\n",
    "'''\n",
    "print(string[6])     # Indexing\n",
    "print(string[-5])    # Indexing\n",
    "\n",
    "print(string [-10])\n"
   ]
  },
  {
   "cell_type": "code",
   "execution_count": null,
   "id": "e7569c71",
   "metadata": {},
   "outputs": [
    {
     "name": "stdout",
     "output_type": "stream",
     "text": [
      "n\n",
      "n\n"
     ]
    }
   ],
   "source": [
    "string = input('Enter the string')\n",
    "\n",
    "''' \n",
    "C h e t a n  J a n w a l k a r\n",
    "0 1 2 3 4 5 6 7 8 9 10 11 12 13 14 15 16\n",
    ".............................. -3 -2 -1 \n",
    "\n",
    "'''\n",
    "\n",
    "print(string[9])\n",
    "print(string[-11])"
   ]
  },
  {
   "cell_type": "code",
   "execution_count": null,
   "id": "4542b5ca",
   "metadata": {},
   "outputs": [
    {
     "name": "stdout",
     "output_type": "stream",
     "text": [
      "ell\n",
      "llo\n",
      "Hello Worl\n",
      "llo Wor\n",
      "o Worl\n"
     ]
    }
   ],
   "source": [
    "#Concept Of Slicing\n",
    "\n",
    "string = input('Enter the string: ')\n",
    "'''\n",
    "string[start:stop]\n",
    "Example:\n",
    "string = Hello World\n",
    "srting[1:4] ----> o/p:---> ell\n",
    "\n",
    "'''\n",
    "\n",
    "print(string[1:4])\n",
    "print(string[2:5])\n",
    "print(string[:-1])\n",
    "print(string[2:-2])\n",
    "print(string[4:-1])"
   ]
  },
  {
   "cell_type": "code",
   "execution_count": 14,
   "id": "93107404",
   "metadata": {},
   "outputs": [
    {
     "name": "stdout",
     "output_type": "stream",
     "text": [
      "el ol\n"
     ]
    }
   ],
   "source": [
    "#Concept Of Slicing\n",
    "\n",
    "string = input('Enter the strinng: ')\n",
    "'''\n",
    "string[start:stop]\n",
    "Example:\n",
    "string = Hello World\n",
    "srting[1::2] ----> o/p:---> el\n",
    "\n",
    "'''\n",
    "print(string[1::2])\n",
    "\n"
   ]
  },
  {
   "cell_type": "code",
   "execution_count": 17,
   "id": "47785e1c",
   "metadata": {},
   "outputs": [
    {
     "name": "stdout",
     "output_type": "stream",
     "text": [
      "HloWloet tewrdo yhnpormig\n",
      "o Welcome to  the world of python programmi\n",
      "gnimmargorp nohtyp fo dlrow eht  ot emocleW olleH\n"
     ]
    }
   ],
   "source": [
    "# Concept  of Indexing and Slicing Together\n",
    "\n",
    "str = 'Hello Welcome to  the world of python programming'\n",
    "print(str[::2])\n",
    "print(str[4:-2:])\n",
    "print(str[::-1])"
   ]
  },
  {
   "cell_type": "code",
   "execution_count": 1,
   "id": "c3085804-80b4-4c33-bb73-24df8b564786",
   "metadata": {},
   "outputs": [
    {
     "name": "stdout",
     "output_type": "stream",
     "text": [
      "[10, 20, 30, 40]\n",
      "<class 'list'>\n",
      "[10, 20, 30, 40, 50]\n"
     ]
    }
   ],
   "source": [
    "# data Structures in python programming\n",
    "'''\n",
    "1.List  []   : mutable in nature\n",
    "2.tuple ()   : Immutable in nature\n",
    "3.Dictionary : {'key1': value1, 'key2' :value2}   : Immutable in nature\n",
    "4.Sets       : {1,2,3,4,5}    :  Immutable in nature\n",
    "\n",
    "if you performing any computional operation on software programming tuple is use (beacause tuple is immutable thats why is much more faster then list)\n",
    "\n",
    "''' \n",
    "\n",
    "# list defination \n",
    "\n",
    "lst = [10,20,30,40]\n",
    "\n",
    "print(lst)\n",
    "print(type(lst))\n",
    "\n",
    "# append () this is function which defined in class list\n",
    "# therfore, append() is method of class list\n",
    "# lst.append(50) : You are calling function using .operator\n",
    "lst.append(50)\n",
    "print(lst)\n",
    "\n",
    "\n",
    "\n",
    "\n",
    "\n",
    "\n",
    "\n"
   ]
  },
  {
   "cell_type": "code",
   "execution_count": 4,
   "id": "4024390a",
   "metadata": {},
   "outputs": [
    {
     "name": "stdout",
     "output_type": "stream",
     "text": [
      "[5, 10, 20, 30, 40]\n"
     ]
    }
   ],
   "source": [
    "lst = [10,20,30,40]\n",
    "lst.insert(0,5) # This function will add the value 5 at an index 0\n",
    "print(lst) "
   ]
  },
  {
   "cell_type": "code",
   "execution_count": 5,
   "id": "f7cb92eb",
   "metadata": {},
   "outputs": [
    {
     "data": {
      "text/plain": [
       "1"
      ]
     },
     "execution_count": 5,
     "metadata": {},
     "output_type": "execute_result"
    }
   ],
   "source": [
    "lst.count(30)"
   ]
  },
  {
   "cell_type": "code",
   "execution_count": 6,
   "id": "c1d062d6",
   "metadata": {},
   "outputs": [
    {
     "data": {
      "text/plain": [
       "40"
      ]
     },
     "execution_count": 6,
     "metadata": {},
     "output_type": "execute_result"
    }
   ],
   "source": [
    "lst.pop() # This function will remove the last number present in the list"
   ]
  },
  {
   "cell_type": "code",
   "execution_count": 7,
   "id": "e3c35f6d",
   "metadata": {},
   "outputs": [
    {
     "name": "stdout",
     "output_type": "stream",
     "text": [
      "[5, 10, 20, 30]\n"
     ]
    }
   ],
   "source": [
    "print(lst)"
   ]
  },
  {
   "cell_type": "code",
   "execution_count": 8,
   "id": "84c4f22a",
   "metadata": {},
   "outputs": [
    {
     "name": "stdout",
     "output_type": "stream",
     "text": [
      "[5, 20, 30]\n"
     ]
    }
   ],
   "source": [
    "lst.remove((10)) #function will remove the specified value \n",
    "print(lst)"
   ]
  },
  {
   "cell_type": "code",
   "execution_count": 11,
   "id": "828ac0a7",
   "metadata": {},
   "outputs": [
    {
     "name": "stdout",
     "output_type": "stream",
     "text": [
      "[10, 10, 30, 30, 40, 20]\n"
     ]
    }
   ],
   "source": [
    "lst = [10,10,10,20,30,30,20,40,20,60]\n",
    "lst.pop()\n",
    "lst.remove(10)\n",
    "lst.remove(20)\n",
    "lst.remove(20)\n",
    "print(lst)"
   ]
  },
  {
   "cell_type": "code",
   "execution_count": 12,
   "id": "9223b020",
   "metadata": {},
   "outputs": [
    {
     "name": "stdout",
     "output_type": "stream",
     "text": [
      "[10, 30, 50]\n",
      "[60, 50, 40, 30, 20, 10]\n",
      "30\n"
     ]
    }
   ],
   "source": [
    "# Calculate lenght of the number present in list\n",
    "lst = [10,20,30,40,50,60]\n",
    "print(lst[0::2])\n",
    "print(lst[::-1])\n",
    "print(lst[2])"
   ]
  },
  {
   "cell_type": "code",
   "execution_count": 25,
   "id": "858054a3",
   "metadata": {},
   "outputs": [
    {
     "data": {
      "text/plain": [
       "1"
      ]
     },
     "execution_count": 25,
     "metadata": {},
     "output_type": "execute_result"
    }
   ],
   "source": [
    "# Example 1\n",
    "lst = [10,20,30,[40,50,60],[1,[2,[3,4,5,6],7],8,9],10] \n",
    "lst[4][0]\n",
    "# o/p : 9"
   ]
  },
  {
   "cell_type": "code",
   "execution_count": 43,
   "id": "79c669a3",
   "metadata": {},
   "outputs": [
    {
     "data": {
      "text/plain": [
       "60"
      ]
     },
     "execution_count": 43,
     "metadata": {},
     "output_type": "execute_result"
    }
   ],
   "source": [
    "# Example 2\n",
    "\n",
    "lst = [10,20,[1,2,3,[10,20,[30,[40,50,[60],70],90],9,100],1000],2000,[10000]]\n",
    "lst[2][3][2][1][2][0]   #o/p = 60 "
   ]
  },
  {
   "cell_type": "code",
   "execution_count": null,
   "id": "c6cac516",
   "metadata": {},
   "outputs": [
    {
     "data": {
      "text/plain": [
       "700"
      ]
     },
     "execution_count": 55,
     "metadata": {},
     "output_type": "execute_result"
    }
   ],
   "source": [
    "# Example 3\n",
    "# o/p :700\n",
    "\n",
    "lst = [10,[100,200,300,[400,[500,[[[600],700,1],10],20]]]]\n",
    "lst[1][3][1][1][0][1]"
   ]
  },
  {
   "cell_type": "code",
   "execution_count": 3,
   "id": "5faaa04d",
   "metadata": {},
   "outputs": [
    {
     "data": {
      "text/plain": [
       "[800, 900, 1000]"
      ]
     },
     "execution_count": 3,
     "metadata": {},
     "output_type": "execute_result"
    }
   ],
   "source": [
    "lst = [10,[100,200,300,[400,[500,[[[600,700,800,900,1000,1100,1200],700],1],10],20]]]\n",
    "\n",
    "lst[1][3][1][1][0][0][2:5]\n"
   ]
  },
  {
   "cell_type": "code",
   "execution_count": 23,
   "id": "df098818",
   "metadata": {},
   "outputs": [
    {
     "name": "stdout",
     "output_type": "stream",
     "text": [
      "ise vgnbuf r\n",
      "r\n",
      "nvi is very loving and beautiful gi\n",
      "lrig lufituaeb dna gnivol yrev si ivnas\n"
     ]
    }
   ],
   "source": [
    "string = 'sanvi is very loving and beautiful girl'\n",
    "print(string[4::3])\n",
    "print(string[11])\n",
    "print(string[2:-2])\n",
    "print(string[::-])\n"
   ]
  },
  {
   "cell_type": "code",
   "execution_count": null,
   "id": "9987e725",
   "metadata": {},
   "outputs": [],
   "source": []
  }
 ],
 "metadata": {
  "kernelspec": {
   "display_name": "Python [conda env:base] *",
   "language": "python",
   "name": "conda-base-py"
  },
  "language_info": {
   "codemirror_mode": {
    "name": "ipython",
    "version": 3
   },
   "file_extension": ".py",
   "mimetype": "text/x-python",
   "name": "python",
   "nbconvert_exporter": "python",
   "pygments_lexer": "ipython3",
   "version": "3.12.7"
  }
 },
 "nbformat": 4,
 "nbformat_minor": 5
}
