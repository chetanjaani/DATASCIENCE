{
 "cells": [
  {
   "cell_type": "code",
   "execution_count": 2,
   "id": "a9f807bd",
   "metadata": {},
   "outputs": [
    {
     "name": "stdout",
     "output_type": "stream",
     "text": [
      "Hello World\n"
     ]
    }
   ],
   "source": [
    "# define function \n",
    "\n",
    "def  sum(): # sum () function defination\n",
    "    print('Hello World')\n",
    "    \n",
    "ans = sum()     # sum() function calling and storing on variable ans    "
   ]
  },
  {
   "cell_type": "code",
   "execution_count": null,
   "id": "5f8d8f1c",
   "metadata": {},
   "outputs": [
    {
     "name": "stdout",
     "output_type": "stream",
     "text": [
      " the addition of two numbers 100 and 200 is  300\n"
     ]
    }
   ],
   "source": [
    "def sum(num1,num2):\n",
    "    num3 = num1 + num2\n",
    "    print(f' the addition of two numbers {num1} and {num2} is ',num3)\n",
    "    \n",
    "ans = sum(100,200)    "
   ]
  },
  {
   "cell_type": "code",
   "execution_count": 25,
   "id": "dfdf3f89",
   "metadata": {},
   "outputs": [
    {
     "name": "stdout",
     "output_type": "stream",
     "text": [
      " the addition of two numbers 10.0 and 20.0 is  30.0\n",
      " the mulitiplication of two numbers 10.0 and 20.0 is  200.0\n"
     ]
    }
   ],
   "source": [
    "num1 = float(input('enter the first number:  '))\n",
    "num2 = float(input('enter the second numnber:  '))\n",
    "\n",
    "def sum(num1,num2):\n",
    "    num3 = num1 + num2\n",
    "    print(f' the addition of two numbers {num1} and {num2} is ' ,num3)\n",
    "    return num3\n",
    "\n",
    "def mul(num1,num2):\n",
    "    num4 = num1 * num2\n",
    "    print(f' the mulitiplication of two numbers {num1} and {num2} is ' ,num4)\n",
    "    return num4\n",
    "    \n",
    "addition = sum(num1,num2)\n",
    "multiplication = mul(num1,num2)"
   ]
  },
  {
   "cell_type": "code",
   "execution_count": null,
   "id": "aaa7c160",
   "metadata": {},
   "outputs": [
    {
     "data": {
      "text/plain": [
       "200.0"
      ]
     },
     "execution_count": 26,
     "metadata": {},
     "output_type": "execute_result"
    }
   ],
   "source": [
    "multiplication\n"
   ]
  },
  {
   "cell_type": "code",
   "execution_count": 31,
   "id": "7e5bdd7c",
   "metadata": {},
   "outputs": [
    {
     "name": "stdout",
     "output_type": "stream",
     "text": [
      "the given is string is palindrom. \n"
     ]
    }
   ],
   "source": [
    "''' \n",
    "palindrom\n",
    "mom = mom\n",
    "'''\n",
    "text = input('enter the string: ')\n",
    "text1 = text[::-1]\n",
    "\n",
    "\n",
    "def pal(text):\n",
    "    if text == text1:\n",
    "        print('the given is string is palindrom. ')\n",
    "    else:\n",
    "        print('the given string is not palindrom')\n",
    "        \n",
    "pal(text)"
   ]
  },
  {
   "cell_type": "code",
   "execution_count": 43,
   "id": "046425cd",
   "metadata": {},
   "outputs": [
    {
     "name": "stdout",
     "output_type": "stream",
     "text": [
      "user current balance is  6000.0\n"
     ]
    }
   ],
   "source": [
    "'''\n",
    "balance = 10000\n",
    "withdraw = ask User\n",
    "Theshould balance = 2000\n",
    "\n",
    "'''\n",
    "balance = 10000\n",
    "threshould = 2000\n",
    "withdraw = float(input('ask user:'))\n",
    "\n",
    "\n",
    "if  withdraw >= balance:\n",
    "    print('insufficient balance')\n",
    "else:\n",
    "    new_balance = balance - withdraw\n",
    "    if new_balance >= threshould:\n",
    "        print('user current balance is ',new_balance)\n",
    "    else:\n",
    "        print('def transcation')\n",
    "        \n",
    "\n"
   ]
  },
  {
   "cell_type": "code",
   "execution_count": null,
   "id": "129d1032",
   "metadata": {},
   "outputs": [],
   "source": []
  },
  {
   "cell_type": "code",
   "execution_count": null,
   "id": "11d00f56",
   "metadata": {},
   "outputs": [],
   "source": []
  }
 ],
 "metadata": {
  "kernelspec": {
   "display_name": "base",
   "language": "python",
   "name": "python3"
  },
  "language_info": {
   "codemirror_mode": {
    "name": "ipython",
    "version": 3
   },
   "file_extension": ".py",
   "mimetype": "text/x-python",
   "name": "python",
   "nbconvert_exporter": "python",
   "pygments_lexer": "ipython3",
   "version": "3.12.7"
  }
 },
 "nbformat": 4,
 "nbformat_minor": 5
}
