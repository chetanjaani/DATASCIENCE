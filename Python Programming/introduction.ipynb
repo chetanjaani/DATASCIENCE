{
 "cells": [
  {
   "cell_type": "markdown",
   "id": "c6b84474",
   "metadata": {},
   "source": [
    "### Introduction of python"
   ]
  },
  {
   "cell_type": "code",
   "execution_count": null,
   "id": "3e728fea",
   "metadata": {},
   "outputs": [
    {
     "data": {
      "text/plain": [
       "'\\nData types in python are as follows:\\n1.Integer\\n2.Float\\n3.string\\n'"
      ]
     },
     "execution_count": 4,
     "metadata": {},
     "output_type": "execute_result"
    }
   ],
   "source": [
    "# Variable Defination\n",
    "number = 100                #Defining Integer Variable\n",
    "decimal = 1000.890          #Defining float Variable : decimal Values\n",
    "string = 'Hello World'      #Defining String : \"Text Information\"\n",
    "'''\n",
    "Data types in python are as follows:\n",
    "1.Integer\n",
    "2.Float\n",
    "3.string\n",
    "'''"
   ]
  },
  {
   "cell_type": "code",
   "execution_count": null,
   "id": "d5703a8e",
   "metadata": {},
   "outputs": [
    {
     "name": "stdout",
     "output_type": "stream",
     "text": [
      "<class 'int'>\n",
      "<class 'float'>\n",
      "<class 'str'>\n"
     ]
    }
   ],
   "source": [
    "#Checking Datatype Variables\n",
    "print(type(number))\n",
    "print(type(decimal))\n",
    "print(type(string))"
   ]
  },
  {
   "cell_type": "code",
   "execution_count": null,
   "id": "97c18a35",
   "metadata": {},
   "outputs": [
    {
     "name": "stdout",
     "output_type": "stream",
     "text": [
      "100\n"
     ]
    }
   ],
   "source": [
    "# type casting of data type\n",
    "num = 100.2908383    # datatype : Float\n",
    "print(int(num))      #Float is typecasted to int"
   ]
  }
 ],
 "metadata": {
  "kernelspec": {
   "display_name": "base",
   "language": "python",
   "name": "python3"
  },
  "language_info": {
   "codemirror_mode": {
    "name": "ipython",
    "version": 3
   },
   "file_extension": ".py",
   "mimetype": "text/x-python",
   "name": "python",
   "nbconvert_exporter": "python",
   "pygments_lexer": "ipython3",
   "version": "3.12.7"
  }
 },
 "nbformat": 4,
 "nbformat_minor": 5
}
